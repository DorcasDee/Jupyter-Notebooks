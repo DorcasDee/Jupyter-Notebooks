{
 "cells": [
  {
   "cell_type": "markdown",
   "id": "e2ee87d1",
   "metadata": {},
   "source": [
    "# Statistical Methods in Geophysics\n",
    "\n",
    "## List 1"
   ]
  },
  {
   "cell_type": "markdown",
   "id": "a9d6dc9c",
   "metadata": {},
   "source": [
    "### Question 1\n",
    "\n",
    "### Make a script to read the year of birth of a person and print how many years he/she was in 2020"
   ]
  },
  {
   "cell_type": "code",
   "execution_count": 1,
   "id": "a96e3901",
   "metadata": {},
   "outputs": [
    {
     "name": "stdout",
     "output_type": "stream",
     "text": [
      "this script will calculate your age as at 2020\n"
     ]
    }
   ],
   "source": [
    "print(\"this script will calculate your age as at 2020\")"
   ]
  },
  {
   "cell_type": "code",
   "execution_count": 2,
   "id": "fe7bad77",
   "metadata": {},
   "outputs": [],
   "source": [
    "current_year = 2020"
   ]
  },
  {
   "cell_type": "code",
   "execution_count": 3,
   "id": "d128c6dd",
   "metadata": {},
   "outputs": [
    {
     "name": "stdout",
     "output_type": "stream",
     "text": [
      "Please input your year of birth: 1998\n"
     ]
    }
   ],
   "source": [
    "birth_year = int(input(\"Please input your year of birth: \"))"
   ]
  },
  {
   "cell_type": "code",
   "execution_count": 4,
   "id": "d8a35a49",
   "metadata": {},
   "outputs": [
    {
     "name": "stdout",
     "output_type": "stream",
     "text": [
      "You are  22 years old\n"
     ]
    }
   ],
   "source": [
    "print(\"You are \", current_year - birth_year, \"years old\")"
   ]
  },
  {
   "cell_type": "markdown",
   "id": "42a9c2e1",
   "metadata": {},
   "source": [
    "### Question 2\n",
    "\n",
    "### Modify the previous script to read also birthday month of the person and print his/her age or a message “Happy Birthday!” if it is their birthday month."
   ]
  },
  {
   "cell_type": "code",
   "execution_count": 5,
   "id": "79418043",
   "metadata": {},
   "outputs": [
    {
     "name": "stdout",
     "output_type": "stream",
     "text": [
      "this script will read your birthday month and print your age or a Happy Birthday if it is your birth month\n",
      "Please input the current month in full: October\n",
      "Please input your year of birth: 1998\n",
      "Please input your birth month in full: October\n"
     ]
    }
   ],
   "source": [
    "print(\"this script will read your birthday month and print your age or a Happy Birthday if it is your birth month\")\n",
    "current_year = 2020\n",
    "current_month = str(input(\"Please input the current month in full: \"))\n",
    "birth_year = int(input(\"Please input your year of birth: \"))\n",
    "birth_month = str(input(\"Please input your birth month in full: \"))"
   ]
  },
  {
   "cell_type": "code",
   "execution_count": 6,
   "id": "d16c8010",
   "metadata": {},
   "outputs": [
    {
     "name": "stdout",
     "output_type": "stream",
     "text": [
      "You are now 22 years old. Happy Birthday\n"
     ]
    }
   ],
   "source": [
    "if birth_month == current_month:\n",
    "    print(\"You are now\", current_year - birth_year, \"years old. Happy Birthday\")"
   ]
  },
  {
   "cell_type": "code",
   "execution_count": 5,
   "id": "d204f41c",
   "metadata": {},
   "outputs": [
    {
     "name": "stdout",
     "output_type": "stream",
     "text": [
      "Collecting numpy\n",
      "  Downloading numpy-1.21.2-cp39-cp39-manylinux_2_12_x86_64.manylinux2010_x86_64.whl (15.8 MB)\n",
      "\u001b[K     |████████████████████████████████| 15.8 MB 44 kB/s  eta 0:00:01\n",
      "\u001b[?25hInstalling collected packages: numpy\n",
      "\u001b[33m  WARNING: The scripts f2py, f2py3 and f2py3.9 are installed in '/home/dorcas/.local/bin' which is not on PATH.\n",
      "  Consider adding this directory to PATH or, if you prefer to suppress this warning, use --no-warn-script-location.\u001b[0m\n",
      "Successfully installed numpy-1.21.2\n"
     ]
    }
   ],
   "source": [
    "!pip install numpy"
   ]
  },
  {
   "cell_type": "markdown",
   "id": "6f3d8423",
   "metadata": {},
   "source": [
    "### Question 3\n",
    "\n",
    "### Make a script to print the century for a given year. For example, if the user types 1789, the script should print: “18th century”"
   ]
  },
  {
   "cell_type": "code",
   "execution_count": 7,
   "id": "73bf8c57",
   "metadata": {},
   "outputs": [
    {
     "name": "stdout",
     "output_type": "stream",
     "text": [
      "Please input a certain year: 1888\n"
     ]
    }
   ],
   "source": [
    "import numpy as np\n",
    "year = int(input(\"Please input a certain year: \"))"
   ]
  },
  {
   "cell_type": "code",
   "execution_count": 8,
   "id": "e4657594",
   "metadata": {},
   "outputs": [
    {
     "name": "stdout",
     "output_type": "stream",
     "text": [
      "19th century\n"
     ]
    }
   ],
   "source": [
    "if (year >= 1000) and (year < 1100):\n",
    "    print(\"11th century\")\n",
    "elif (year >= 1100) and (year < 1200):\n",
    "    print(\"12th century\")\n",
    "elif (year >= 1200) and (year < 1300):\n",
    "    print(\"13th century\")\n",
    "elif (year >= 1300) and (year < 1400):\n",
    "    print(\"14th century\")\n",
    "elif (year >= 1400) and (year < 1500):\n",
    "    print(\"15th century\")\n",
    "elif (year >= 1500) and (year < 1600):\n",
    "    print(\"16th century\")\n",
    "elif (year >= 1600) and (year < 1700):\n",
    "    print(\"17th century\")\n",
    "elif (year >= 1700) and (year < 1800):\n",
    "    print(\"18th century\")\n",
    "elif (year >= 1800) and (year < 1900):\n",
    "    print(\"19th century\")\n",
    "elif (year >= 1900) and (year < 2000):\n",
    "    print(\"20th century\")\n",
    "elif (year >= 2000) and (year < 2100):\n",
    "    print(\"21st century\")\n",
    "else:\n",
    "    print(\"Year frame not included\")"
   ]
  },
  {
   "cell_type": "markdown",
   "id": "c09cff06",
   "metadata": {},
   "source": [
    "### Question 4\n",
    "\n",
    "### Make a script to calculate the ∆ (delta) of the famous Bhaskara formula used to solve second degree equations. The program must inform not only the value of ∆, but also if there is one, two or no real roots. What happens if the program is used with a first degree equation (a = 0)? Can you improve this?"
   ]
  },
  {
   "cell_type": "code",
   "execution_count": 9,
   "id": "6d93086a",
   "metadata": {},
   "outputs": [
    {
     "name": "stdout",
     "output_type": "stream",
     "text": [
      "Please input the coefficient of x^2: 1\n",
      "Please input the coefficient of x: 4\n",
      "Please input the third term: 5\n"
     ]
    }
   ],
   "source": [
    "a = float(input(\"Please input the coefficient of x^2: \"))\n",
    "b = float(input(\"Please input the coefficient of x: \"))\n",
    "c = float(input(\"Please input the third term: \"))"
   ]
  },
  {
   "cell_type": "code",
   "execution_count": 10,
   "id": "47f120a2",
   "metadata": {},
   "outputs": [],
   "source": [
    "# ax2 + bx + c = 0\n",
    "# if a = 0; bx-c = 0\n",
    "# then, x = -c/b\n",
    "\n",
    "if (a == 0):\n",
    "    print(\"The value of x is \", -c/b)"
   ]
  },
  {
   "cell_type": "code",
   "execution_count": 11,
   "id": "2c94e74b",
   "metadata": {},
   "outputs": [
    {
     "name": "stdout",
     "output_type": "stream",
     "text": [
      "The value of delta is:  -4.0\n",
      "The quadratic equation has no real root(s)\n"
     ]
    }
   ],
   "source": [
    "delta = b**2 - 4*a*c\n",
    "\n",
    "print(\"The value of delta is: \", delta)\n",
    "\n",
    "if (delta < 0):\n",
    "    print(\"The quadratic equation has no real root(s)\")\n",
    "elif (delta == 0):\n",
    "    print(\"The quadratic equation has one real root\")\n",
    "else:\n",
    "    print(\"The quadratic equation has two real roots\")\n"
   ]
  },
  {
   "cell_type": "markdown",
   "id": "302a7ce8",
   "metadata": {},
   "source": [
    "### Question 5\n",
    "\n",
    "### Make a script to calculate the area of a flat geometric figure (circle, triangle, square or rectangle). The user should choose the figure through a menu, with numeric options, and then the program should ask for the necessary data, then print the value of the figure area."
   ]
  },
  {
   "cell_type": "code",
   "execution_count": 12,
   "id": "b1643596",
   "metadata": {},
   "outputs": [
    {
     "name": "stdout",
     "output_type": "stream",
     "text": [
      "Input the name of the figure: square\n"
     ]
    }
   ],
   "source": [
    "#Area of a flat geometric figure\n",
    "\n",
    "\n",
    "figure = str(input(\"Input the name of the figure: \"))"
   ]
  },
  {
   "cell_type": "code",
   "execution_count": 13,
   "id": "d07b1e9e",
   "metadata": {},
   "outputs": [
    {
     "name": "stdout",
     "output_type": "stream",
     "text": [
      "input the length of the side of the square: 6\n",
      "the area of the square is:  36.0\n"
     ]
    }
   ],
   "source": [
    "if figure == \"square\":\n",
    "    l = float(input(\"input the length of the side of the square: \"))\n",
    "    print(\"the area of the square is: \", l**2)\n",
    "elif figure == \"circle\":\n",
    "    r = float(input(\"input the radius of the circle: \"))\n",
    "    print(\"the area of the circle is: \", math.pi*r**2)\n",
    "elif figure == \"triangle\":\n",
    "    b = float(input(\"input the value of the base: \"))\n",
    "    h = float(input(\"input the value of the height: \"))\n",
    "    print(\"the area of the triangle is: \", 0.5*b*h)\n",
    "elif figure == \"rectangle\":\n",
    "    l = float(input(\"input the length of the rectangle: \"))\n",
    "    b = float(input(\"input the breadth of the rectangle: \"))\n",
    "    print(\"the area of the rectangle is:\", l*b)"
   ]
  },
  {
   "cell_type": "markdown",
   "id": "7cc70e06",
   "metadata": {},
   "source": [
    "### Question 6\n",
    "\n",
    "### Make a script to calculate the Body Mass Index (BMI) of a person, then print the BMI value and the category in which the person is (including different degrees of thinness and obesity"
   ]
  },
  {
   "cell_type": "code",
   "execution_count": 14,
   "id": "2f4faa83",
   "metadata": {},
   "outputs": [
    {
     "name": "stdout",
     "output_type": "stream",
     "text": [
      "This script calculate your BMI and show the category of body size\n",
      "Please input your age: 22\n"
     ]
    }
   ],
   "source": [
    "# Body Mass Index is a simple calculation using a person’s height and weight. \n",
    "# The formula is BMI = kg/m2 where kg is a person’s weight in kilograms and m2 is their height in metres squared.\n",
    "# A BMI of 25.0 or more is overweight, while the healthy range is 18.5 to 24.9. \n",
    "# BMI applies to most adults 18-65 years.\n",
    "\n",
    "print(\"This script calculate your BMI and show the category of body size\")\n",
    "age = int(input(\"Please input your age: \"))\n",
    "\n",
    "if (age < 18) or (age > 65):\n",
    "    print(\"BMI only applies to adults between 18-65 years of age\")"
   ]
  },
  {
   "cell_type": "code",
   "execution_count": 15,
   "id": "14cf24c3",
   "metadata": {},
   "outputs": [
    {
     "name": "stdout",
     "output_type": "stream",
     "text": [
      "input your height in m: 1.78\n",
      "input your weight in kg: 65\n",
      "Your BMI is  20.515086478979924 and it is normal\n"
     ]
    }
   ],
   "source": [
    "height = float(input(\"input your height in m: \"))\n",
    "weight = float(input(\"input your weight in kg: \"))\n",
    "BMI = weight/height**2\n",
    "\n",
    "if (BMI < 18.5):\n",
    "    print(\"Your BMI is \", BMI, \"and you are underweight\")\n",
    "elif (BMI >= 18.5) and (BMI < 25.0):\n",
    "    print(\"Your BMI is \", BMI, \"and it is normal\")\n",
    "else:\n",
    "    print(\"Your BMI is \", BMI, \"and you are overweight\")"
   ]
  },
  {
   "cell_type": "markdown",
   "id": "208bf0b1",
   "metadata": {},
   "source": [
    "### Question 7\n",
    "\n",
    "### Make a script to calculate and print the factorial of a natural number."
   ]
  },
  {
   "cell_type": "code",
   "execution_count": 16,
   "id": "efbeaab1",
   "metadata": {},
   "outputs": [
    {
     "name": "stdout",
     "output_type": "stream",
     "text": [
      "This script calculates the factorial of a natural number\n",
      "Please input a natural number: 6\n",
      "The factorial of 6 is 720\n"
     ]
    }
   ],
   "source": [
    "print(\"This script calculates the factorial of a natural number\")\n",
    "# factorial is not defined for negative numbers and the factorial of 0 is 1, i.e. 0! = 1\n",
    "\n",
    "number = int(input(\"Please input a natural number: \"))\n",
    "x = 1\n",
    "if (number < 0):\n",
    "    print(\"Invalid number\")\n",
    "elif (number == 0):\n",
    "    print(\"The factorial of \", number, \"is 1\")\n",
    "else:\n",
    "    for i in range(1, number + 1):\n",
    "        x = x * i\n",
    "    print(\"The factorial of\",number, \"is\",x)"
   ]
  },
  {
   "cell_type": "code",
   "execution_count": 17,
   "id": "32da1fc7",
   "metadata": {},
   "outputs": [
    {
     "name": "stdout",
     "output_type": "stream",
     "text": [
      "Input a natural number: 6\n",
      "Factorial of 6 is 720\n"
     ]
    }
   ],
   "source": [
    "n = int(input(\"Input a natural number: \"))\n",
    "x = 1\n",
    "\n",
    "for i in range (1, n + 1):\n",
    "    x = x * i\n",
    "print(\"Factorial of\", n,\"is\",x)"
   ]
  },
  {
   "cell_type": "markdown",
   "id": "6664e06f",
   "metadata": {},
   "source": [
    "### Question 8\n",
    "\n",
    "### The equivalent resistance (Req) in parallel of three resistors (R1, R2 and R3) is given by the equation below. Make a script to read the values of R1, R2, and R3 and then print the value of Req"
   ]
  },
  {
   "cell_type": "code",
   "execution_count": 18,
   "id": "90323146",
   "metadata": {},
   "outputs": [
    {
     "name": "stdout",
     "output_type": "stream",
     "text": [
      "Input the value of the first resistor in ohms: 5\n",
      "Input the value of the second resistor in ohms: 7\n",
      "Input the value of the third resistor in ohms: 12\n",
      "The value of equivalent resistance Req = 2.346368715083799\n"
     ]
    }
   ],
   "source": [
    "# the formula for equivalent resistance of 3 resistors parallel to eac other\n",
    "# 1/Req = 1/R1 + 1/R2 + 1/R3\n",
    "\n",
    "R1 = float(input(\"Input the value of the first resistor in ohms: \"))\n",
    "R2 = float(input(\"Input the value of the second resistor in ohms: \"))\n",
    "R3 = float(input(\"Input the value of the third resistor in ohms: \"))\n",
    "\n",
    "Req = (R1*R2*R3)/(R2*R3 + R1*R3 + R1*R2)\n",
    "print(\"The value of equivalent resistance Req =\",Req)"
   ]
  },
  {
   "cell_type": "markdown",
   "id": "c624916c",
   "metadata": {},
   "source": [
    "### Question 9\n",
    "\n",
    "### Make a script to calculate the LCM (least common multiple) and the GCD (greatest common divisor) of two positive integers."
   ]
  },
  {
   "cell_type": "code",
   "execution_count": 19,
   "id": "a8a83588",
   "metadata": {},
   "outputs": [
    {
     "name": "stdout",
     "output_type": "stream",
     "text": [
      "Enter a positive integer: 100\n",
      "Enter the second poditive integer: 120\n",
      "The HCF is 20\n",
      "The LCM is 600.0\n"
     ]
    }
   ],
   "source": [
    "# to calculate the LCM of two positive integers\n",
    "\n",
    "a = int(input(\"Enter a positive integer: \"))\n",
    "b = int(input(\"Enter the second poditive integer: \"))\n",
    "\n",
    "# to find gcd/hcf\n",
    "def hcf_fn(a,b):\n",
    "    while(b):\n",
    "        a, b = b, a % b\n",
    "    return(a)\n",
    "\n",
    "hcf = hcf_fn(a,b)\n",
    "print(\"The HCF is\", hcf)\n",
    "\n",
    "# print(\"The HCF is \", hcf_fn(a,b))\n",
    "\n",
    "\n",
    "# to find lcm\n",
    "LCM = (a * b)/hcf\n",
    "print(\"The LCM is\", LCM)"
   ]
  },
  {
   "cell_type": "code",
   "execution_count": 20,
   "id": "04a424c6",
   "metadata": {},
   "outputs": [
    {
     "name": "stdout",
     "output_type": "stream",
     "text": [
      "Enter a positive integer: 100\n",
      "Enter the second poditive integer: 120\n",
      "The GCD of 100 and 120 is 20\n"
     ]
    }
   ],
   "source": [
    "#another method for gcd\n",
    "\n",
    "a = int(input(\"Enter a positive integer: \"))\n",
    "b = int(input(\"Enter the second poditive integer: \"))\n",
    "\n",
    "#to find gcd\n",
    "#initializing c to thr smaller of n and m\n",
    "c = min(a,b)\n",
    "\n",
    "#using a while loop to find the gcd\n",
    "while a % c != 0 or b % c != 0:\n",
    "    c = c - 1\n",
    "    \n",
    "print(\"The GCD of\",a,\"and\",b,\"is\",c)"
   ]
  },
  {
   "cell_type": "markdown",
   "id": "8506ad25",
   "metadata": {},
   "source": [
    "### Question 10\n",
    "\n",
    "### Make a script to convert a temperature from degrees Celsius to Fahrenheit and vice versa. Read the temperature and the unit, then print the answer. (the program can ask “type 0 for Celsius or 1 for Fahrenheit” or it can accept a compact input in the form “32.0F”."
   ]
  },
  {
   "cell_type": "code",
   "execution_count": 21,
   "id": "3c999644",
   "metadata": {},
   "outputs": [
    {
     "name": "stdout",
     "output_type": "stream",
     "text": [
      "This script will convert temperature from Celsius to Fahrenheit and vice versa\n",
      "Enter the value of the temperature only: 32\n",
      "Is the unit F/C? F\n",
      "The temperature in Celsius is 0.0\n"
     ]
    }
   ],
   "source": [
    "print(\"This script will convert temperature from Celsius to Fahrenheit and vice versa\")\n",
    "\n",
    "T = float(input(\"Enter the value of the temperature only: \"))\n",
    "u = str(input(\"Is the unit F/C? \"))\n",
    "\n",
    "if u == \"F\":\n",
    "    print(\"The temperature in Celsius is\", (T - 32) * (5/9))\n",
    "else:\n",
    "    print(\"The temperature in Fahrenheit is\", ((9/5) *T) + 32)"
   ]
  },
  {
   "cell_type": "markdown",
   "id": "1d99a9df",
   "metadata": {},
   "source": [
    "### Question 11\n",
    "\n",
    "### Make a script to convert a given number of seconds to days, hours, minutes and seconds. For example, 7322 seconds correspond to 0 days, 2 hours, 2 minutes and 2 seconds"
   ]
  },
  {
   "cell_type": "code",
   "execution_count": 23,
   "id": "a672a37a",
   "metadata": {},
   "outputs": [
    {
     "name": "stdout",
     "output_type": "stream",
     "text": [
      "this script will convert a given neumber of seconds to days, hours minutes and seconds\n",
      "Please input the number of seconds: 92190\n",
      "This corresponds to 1 days 1 hour 36 minutes 30 seconds\n"
     ]
    }
   ],
   "source": [
    "print(\"this script will convert a given neumber of seconds to days, hours minutes and seconds\")\n",
    "\n",
    "sec_in_a_day = 60 * 60 * 24\n",
    "#there are 24 hours in a day\n",
    "sec_in_a_hour = 60 * 60 * 1\n",
    "sec_in_a_minute = 60\n",
    "\n",
    "sec = int(input(\"Please input the number of seconds: \"))\n",
    "\n",
    "\n",
    "day = sec // sec_in_a_day\n",
    "hour = (sec - (day * sec_in_a_day)) // sec_in_a_hour\n",
    "minute = (sec - (day * sec_in_a_day) - (hour * sec_in_a_hour)) // sec_in_a_minute\n",
    "second = (sec - (day * sec_in_a_day) - (hour * sec_in_a_hour)) % sec_in_a_minute\n",
    "\n",
    "\n",
    "print(\"This corresponds to\",day,\"days\",hour,\"hour\",minute,\"minutes\",second,\"seconds\" )\n"
   ]
  },
  {
   "cell_type": "markdown",
   "id": "e8a76691",
   "metadata": {},
   "source": [
    "### Question 12\n",
    "\n",
    "### Make a script to calculate the Nth Fibonacci number. Read the N value and print the result\n",
    "\n"
   ]
  },
  {
   "cell_type": "code",
   "execution_count": 24,
   "id": "96a520d2",
   "metadata": {},
   "outputs": [
    {
     "name": "stdout",
     "output_type": "stream",
     "text": [
      "input the nth fibonacci number: 12\n",
      "89\n"
     ]
    }
   ],
   "source": [
    "n = int(input(\"input the nth fibonacci number: \"))\n",
    "\n",
    "def fibonacci(n):\n",
    "    if n == 0:\n",
    "        return n\n",
    "    elif n == 1:\n",
    "        return n\n",
    "    else:\n",
    "        return fibonacci(n-1) + fibonacci(n-2)\n",
    "    \n",
    "print(fibonacci(n-1))"
   ]
  },
  {
   "cell_type": "code",
   "execution_count": 25,
   "id": "d1ba6217",
   "metadata": {},
   "outputs": [
    {
     "name": "stdout",
     "output_type": "stream",
     "text": [
      "[0, 1, 1, 2, 3, 5, 8, 13, 21, 34, 55, 89]\n"
     ]
    }
   ],
   "source": [
    "fibonacci_list = []\n",
    "for n in range(n):\n",
    "    fibonacci_list.append(fibonacci(n))\n",
    "    \n",
    "print(fibonacci_list)"
   ]
  },
  {
   "cell_type": "markdown",
   "id": "b8aabb9f",
   "metadata": {},
   "source": [
    "### Question 13\n",
    "\n",
    "### Make a script to read a string ending with '.' (dot) and print the number of times the “AAA” sequenceappears. Consider that overlaps can occur. For example, in “AAABAAAAC.”, The answer is 3"
   ]
  },
  {
   "cell_type": "code",
   "execution_count": 26,
   "id": "9f4406e3",
   "metadata": {},
   "outputs": [],
   "source": [
    "# string='AAABAAA'\n",
    "def countingAAA(string):\n",
    "    counter=0\n",
    "    counter_3A=0\n",
    "    for i in range(len(string)):\n",
    "        temp_var=string[i]\n",
    "        if temp_var == 'A':\n",
    "            counter=counter+1\n",
    "\n",
    "        # only enters here if the letter is differente from A\n",
    "        if temp_var != 'A':\n",
    "            if counter < 3:\n",
    "                counter=0\n",
    "            else:\n",
    "                counter_3A = counter_3A+counter-2\n",
    "                counter = 0\n",
    "    if counter >=3:\n",
    "        counter_3A = counter_3A+counter-2\n",
    "    \n",
    "    return counter_3A"
   ]
  },
  {
   "cell_type": "code",
   "execution_count": 27,
   "id": "19371355",
   "metadata": {},
   "outputs": [
    {
     "data": {
      "text/plain": [
       "8"
      ]
     },
     "execution_count": 27,
     "metadata": {},
     "output_type": "execute_result"
    }
   ],
   "source": [
    "countingAAA('AAAACBAAAEAAACAAAAAA')"
   ]
  },
  {
   "cell_type": "code",
   "execution_count": 29,
   "id": "da8f7e22",
   "metadata": {},
   "outputs": [
    {
     "name": "stdout",
     "output_type": "stream",
     "text": [
      "Enter a string where there are several sequences of AAA:AAABBBEDAAAAAF\n"
     ]
    },
    {
     "data": {
      "text/plain": [
       "4"
      ]
     },
     "execution_count": 29,
     "metadata": {},
     "output_type": "execute_result"
    }
   ],
   "source": [
    "strings = str(input(\"Enter a string where there are several sequences of AAA:\"))\n",
    "countingAAA(strings)"
   ]
  },
  {
   "cell_type": "markdown",
   "id": "4e980bbc",
   "metadata": {},
   "source": [
    "### Question 14\n",
    "\n",
    "### Make a script to determine whether a positive integer n is a prime number."
   ]
  },
  {
   "cell_type": "code",
   "execution_count": 31,
   "id": "048a9422",
   "metadata": {},
   "outputs": [
    {
     "name": "stdout",
     "output_type": "stream",
     "text": [
      "This script determines whether a positive integer n is a prime number\n",
      "Input a positive integer: 7\n",
      "It is a prime number\n"
     ]
    }
   ],
   "source": [
    "print(\"This script determines whether a positive integer n is a prime number\")\n",
    "\n",
    "x = int(input(\"Input a positive integer: \"))\n",
    "\n",
    "def is_prime(x):\n",
    "    test_list = []\n",
    "\n",
    "    for i in range(2, x):\n",
    "        test_list.append(x%i)\n",
    "\n",
    "    # test_list2 = x%test_list\n",
    "    #print(test_list)\n",
    "\n",
    "    if 0 in test_list:\n",
    "        print(\"It is not a prime number\")\n",
    "    else:\n",
    "        print(\"It is a prime number\")\n",
    "        \n",
    "is_prime(x)"
   ]
  },
  {
   "cell_type": "markdown",
   "id": "010feb24",
   "metadata": {},
   "source": [
    "### Question 15\n",
    "\n",
    "### After the disaster that was the test of a teacher, to not fail a large number of students, he decided to normalize the grades, changing the highest grade to 10, and using cross-multiplication for the other grade. For example, if the grades are 0, 3.4, 4.9 and 5.8, the normalized grades will be 0, 5.86, 8.45 and 10. However, as the room is not small, he does not want to do the normalization manually. Make a program to help this teacher's work. The program should receive the grade of n students, not provided by the teacher, and display the normalized grades."
   ]
  },
  {
   "cell_type": "code",
   "execution_count": 33,
   "id": "43c47e41",
   "metadata": {},
   "outputs": [
    {
     "name": "stdout",
     "output_type": "stream",
     "text": [
      " input the size of the students: 4\n",
      "score: 0\n",
      "score: 3.4\n",
      "score: 4.9\n",
      "score: 5.8\n",
      "[[ 0.          5.86206897  8.44827586 10.        ]]\n"
     ]
    }
   ],
   "source": [
    "import numpy as np\n",
    "\n",
    "size = int(input(\" input the size of the students: \"))\n",
    "\n",
    "a = [float(input(\"score: \")) for i in range(size)]\n",
    "\n",
    "\n",
    "aa = np.asmatrix(a)\n",
    "\n",
    "\n",
    "#print(np.max(a))\n",
    "c = np.max(aa)\n",
    "\n",
    "x =  10*aa/c\n",
    "print(x)"
   ]
  },
  {
   "cell_type": "markdown",
   "id": "d3d52ef1",
   "metadata": {},
   "source": [
    "### Question 16\n",
    "\n",
    "### Make a script to read a list of positive integers and prints, without repetition, only the even numbers in the list. The list can have up to 100 numbers and reading must be stopped when a negative number is entered. The list size will not be informed in advance. For example, if the input is 1 2 3 4 1 2 3 4 8 6 8 8 -1 the output should be 2 4 8 6. "
   ]
  },
  {
   "cell_type": "code",
   "execution_count": 35,
   "id": "0fb27407",
   "metadata": {},
   "outputs": [
    {
     "name": "stdout",
     "output_type": "stream",
     "text": [
      "Input numbers less than 100: 1\n",
      "Input numbers less than 100: 2\n",
      "Input numbers less than 100: 3\n",
      "Input numbers less than 100: 4\n",
      "Input numbers less than 100: 1\n",
      "Input numbers less than 100: 2\n",
      "Input numbers less than 100: 3\n",
      "Input numbers less than 100: 4\n",
      "Input numbers less than 100: 8\n",
      "Input numbers less than 100: 6\n",
      "Input numbers less than 100: 8\n",
      "Input numbers less than 100: 8\n",
      "Input numbers less than 100: -1\n",
      "[1, 2, 3, 4, 1, 2, 3, 4, 8, 6, 8, 8]\n"
     ]
    }
   ],
   "source": [
    "m =[]\n",
    "\n",
    "while True:\n",
    "    integer = int(input(\"Input numbers less than 100: \"))\n",
    "    if integer < 0:\n",
    "        break\n",
    "    else:\n",
    "        m.append(integer)\n",
    "\n",
    "print(m)\n"
   ]
  },
  {
   "cell_type": "code",
   "execution_count": 36,
   "id": "7cb4d713",
   "metadata": {},
   "outputs": [
    {
     "data": {
      "text/plain": [
       "[2, 4, 8, 6]"
      ]
     },
     "execution_count": 36,
     "metadata": {},
     "output_type": "execute_result"
    }
   ],
   "source": [
    "def findeven(ll):\n",
    "    b = []\n",
    "    for i in range(len(ll)):\n",
    "        if m[i]%2 == 0:\n",
    "            b.append(m[i])\n",
    "\n",
    "    f = list(dict.fromkeys(b))        \n",
    "    return f        \n",
    "        \n",
    "\n",
    "findeven(m)"
   ]
  },
  {
   "cell_type": "markdown",
   "id": "d610dc88",
   "metadata": {},
   "source": [
    "### Question 17\n",
    "\n",
    "### Create a matrix variable 𝑚𝑎𝑡 and find as many expressions as possible to print the last element of the matrix, without assuming that you know the number of elements, rows or columns."
   ]
  },
  {
   "cell_type": "code",
   "execution_count": 37,
   "id": "a12f8a93",
   "metadata": {},
   "outputs": [
    {
     "name": "stdout",
     "output_type": "stream",
     "text": [
      "[[18 27]\n",
      " [67 33]\n",
      " [49 89]\n",
      " [59 99]\n",
      " [47 75]\n",
      " [98 65]]\n",
      "The last element: 65\n"
     ]
    }
   ],
   "source": [
    "import numpy as np\n",
    "import random\n",
    "\n",
    "rows, cols = np.random.randint(15, size = 2)\n",
    "m = np.random.randint(100, size = (rows,cols))\n",
    "#A random matrix with random elements, rows and columns\n",
    "print(m)\n",
    "\n",
    "row = len(m)\n",
    "\n",
    "\n",
    "if(row == 0):\n",
    "    print(\"A null matrix was generated\")\n",
    "else:\n",
    "    column = len(m[0])\n",
    "    last_element = m[row - 1, column - 1]\n",
    "\n",
    "print(\"The last element:\", last_element)\n"
   ]
  },
  {
   "cell_type": "markdown",
   "id": "61249500",
   "metadata": {},
   "source": [
    "### Question 18\n",
    "\n",
    "### Create a vector of five random integers in between −10 and 10. Do the following steps:\n",
    "1. subtract 3 from each element;\n",
    "2. count how many are positive and negative;\n",
    "3. find the absolute value of each element;\n",
    "4. find the maximum and minimum value."
   ]
  },
  {
   "cell_type": "code",
   "execution_count": 39,
   "id": "f90e8692",
   "metadata": {},
   "outputs": [
    {
     "name": "stdout",
     "output_type": "stream",
     "text": [
      "A vector of five random integers: [[-8  9 -8  9 -2]]\n",
      "Subtract 3 from each element: [[-11   6 -11   6  -5]]\n",
      "The maximum value:  9\n",
      "The minimum value:  -8\n",
      "The absolute value of each element:  [[8 9 8 9 2]]\n",
      "The number of positive values are:  2\n",
      "The number of negative values are:  3\n"
     ]
    }
   ],
   "source": [
    "import random\n",
    "import numpy as np\n",
    "\n",
    "a1 = random.randrange(-10, 10)\n",
    "a2 = random.randrange(-10, 10)\n",
    "a3 = random.randrange(-10, 10)\n",
    "a4 = random.randrange(-10, 10)\n",
    "a5 = random.randrange(-10, 10)\n",
    "\n",
    "n = [a1, a2, a3, a4, a5]\n",
    "nn = np.asmatrix(n)\n",
    "print(\"A vector of five random integers:\", nn)\n",
    "f = nn - 3\n",
    "print(\"Subtract 3 from each element:\", f)\n",
    "g = max(n)\n",
    "print(\"The maximum value: \", g)\n",
    "h = min(n)\n",
    "print(\"The minimum value: \", h)\n",
    "i = abs(nn)\n",
    "print(\"The absolute value of each element: \", i)\n",
    "j = []\n",
    "k =[]\n",
    "\n",
    "n_count = 0\n",
    "p_count = 0\n",
    "for x in n:\n",
    "    if x < 0:\n",
    "#        print(x, end = \" \")\n",
    "        n_count += 1\n",
    "    else:        \n",
    "        p_count += 1\n",
    "    \n",
    "print(\"The number of positive values are: \", p_count)\n",
    "print(\"The number of negative values are: \", n_count)\n"
   ]
  },
  {
   "cell_type": "markdown",
   "id": "5466c5ac",
   "metadata": {},
   "source": [
    "### Question 19\n",
    "\n",
    "### Create a matrix 3 𝑥 5. Do the following steps:\n",
    "1. Find the maximum and minimum value on each column.\n",
    "2. Find the maximum and minimum value on each line.\n",
    "3. Find the maximum and minimum value in the entire matrix."
   ]
  },
  {
   "cell_type": "code",
   "execution_count": 40,
   "id": "185d92b1",
   "metadata": {},
   "outputs": [
    {
     "name": "stdout",
     "output_type": "stream",
     "text": [
      "[[-10  65  11  30  -4]\n",
      " [  0  -7   5  21  50]\n",
      " [  9  -9  17  25  -1]]\n",
      "Maximum and Minimum value on each column\n",
      "Max: 9 Min: -10\n",
      "Max: 65 Min: -9\n",
      "Max: 17 Min: 5\n",
      "Max: 30 Min: 21\n",
      "Max: 50 Min: -4\n",
      "Maximum and Minimum value on each row\n",
      "Max: 65 Min: -10\n",
      "Max: 50 Min: -7\n",
      "Max: 25 Min: -9\n",
      "Maximum and minimum value in entire matrix\n",
      "Maximum 65\n"
     ]
    }
   ],
   "source": [
    "import numpy as np\n",
    "A = np.array([ [-10,65,11,30,-4], [0,-7,5,21,50], [9,-9,17,25,-1] ])\n",
    "print(A)\n",
    "\n",
    "print(\"Maximum and Minimum value on each column\")\n",
    "print(\"Max:\", max(A[:,0]), \"Min:\", min(A[:,0]))\n",
    "print(\"Max:\", max(A[:,1]), \"Min:\", min(A[:,1]))\n",
    "print(\"Max:\", max(A[:,2]), \"Min:\", min(A[:,2]))\n",
    "print(\"Max:\", max(A[:,3]), \"Min:\", min(A[:,3]))\n",
    "print(\"Max:\", max(A[:,4]), \"Min:\", min(A[:,4]))\n",
    "\n",
    "print(\"Maximum and Minimum value on each row\")\n",
    "print(\"Max:\",max(A[0]), \"Min:\", min(A[0]))\n",
    "print(\"Max:\",max(A[1]), \"Min:\", min(A[1]))\n",
    "print(\"Max:\",max(A[2,:]), \"Min:\", min(A[2,:])) #Another way to write the expression\n",
    "\n",
    "print(\"Maximum and minimum value in entire matrix\")\n",
    "maximum = np.max(A)\n",
    "print(\"Maximum\", maximum)"
   ]
  },
  {
   "cell_type": "markdown",
   "id": "927c9d8a",
   "metadata": {},
   "source": [
    "### Question 20\n",
    "\n",
    "### Make a script to read a list of integers between 0 and 100 and then print the frequency of each number. The size of the list will not be previously informed, and the reading must be interrupted when a negative number is entered. For example, if the input is 2 2 5 3 2 3 0 2 3 3 3 3 -1, the output should be something like"
   ]
  },
  {
   "cell_type": "code",
   "execution_count": 4,
   "id": "edfb9e76",
   "metadata": {
    "scrolled": false
   },
   "outputs": [
    {
     "name": "stdout",
     "output_type": "stream",
     "text": [
      "Collecting tabulate\n",
      "  Downloading tabulate-0.8.9-py3-none-any.whl (25 kB)\n",
      "Installing collected packages: tabulate\n",
      "Successfully installed tabulate-0.8.9\n",
      "Note: you may need to restart the kernel to use updated packages.\n"
     ]
    }
   ],
   "source": [
    "pip install tabulate"
   ]
  },
  {
   "cell_type": "code",
   "execution_count": 26,
   "id": "ee39c296",
   "metadata": {
    "scrolled": true
   },
   "outputs": [
    {
     "name": "stdout",
     "output_type": "stream",
     "text": [
      "Collecting pandas\n",
      "  Downloading pandas-1.3.3-cp39-cp39-manylinux_2_17_x86_64.manylinux2014_x86_64.whl (11.5 MB)\n",
      "\u001b[K     |████████████████████████████████| 11.5 MB 3.5 MB/s eta 0:00:01\n",
      "\u001b[?25hRequirement already satisfied: python-dateutil>=2.7.3 in /usr/lib/python3/dist-packages (from pandas) (2.8.1)\n",
      "Requirement already satisfied: numpy>=1.17.3 in /home/dorcas/.local/lib/python3.9/site-packages (from pandas) (1.21.2)\n",
      "Requirement already satisfied: pytz>=2017.3 in /usr/lib/python3/dist-packages (from pandas) (2021.1)\n",
      "Installing collected packages: pandas\n",
      "Successfully installed pandas-1.3.3\n"
     ]
    }
   ],
   "source": [
    "!pip install pandas"
   ]
  },
  {
   "cell_type": "code",
   "execution_count": 41,
   "id": "0723f32a",
   "metadata": {},
   "outputs": [
    {
     "name": "stdout",
     "output_type": "stream",
     "text": [
      "Input numbers between 0 and 100 (-ve terminates): 2\n",
      "Input numbers between 0 and 100 (-ve terminates): 2\n",
      "Input numbers between 0 and 100 (-ve terminates): 5\n",
      "Input numbers between 0 and 100 (-ve terminates): 3\n",
      "Input numbers between 0 and 100 (-ve terminates): 2\n",
      "Input numbers between 0 and 100 (-ve terminates): 3\n",
      "Input numbers between 0 and 100 (-ve terminates): 0\n",
      "Input numbers between 0 and 100 (-ve terminates): 2\n",
      "Input numbers between 0 and 100 (-ve terminates): 3\n",
      "Input numbers between 0 and 100 (-ve terminates): 3\n",
      "Input numbers between 0 and 100 (-ve terminates): 3\n",
      "Input numbers between 0 and 100 (-ve terminates): 3\n",
      "Input numbers between 0 and 100 (-ve terminates): -1\n",
      "[2, 2, 5, 3, 2, 3, 0, 2, 3, 3, 3, 3]\n",
      "{2: 4, 5: 1, 3: 6, 0: 1}\n",
      "[[2, 4], [5, 1], [3, 6], [0, 1]]\n",
      "   Integers  Frequency\n",
      "0         2          4\n",
      "1         5          1\n",
      "2         3          6\n",
      "3         0          1\n"
     ]
    }
   ],
   "source": [
    "import numpy as np\n",
    "import pandas as pd\n",
    "\n",
    "l =[]\n",
    "\n",
    "while True:\n",
    "    integer = int(input(\"Input numbers between 0 and 100 (-ve terminates): \"))\n",
    "    if integer < 0:\n",
    "        break\n",
    "    if integer >= 0:\n",
    "        l.append(integer)\n",
    "\n",
    "print(l)\n",
    "\n",
    "f = {x:l.count(x) for x in l}\n",
    "print(f)\n",
    "l, freq = f.keys(), f.values()\n",
    "\n",
    "keys_list = list(l)\n",
    "values_list = list(freq)\n",
    "\n",
    "mat = []\n",
    "for i in range(len(keys_list)):\n",
    "    mat.append([keys_list[i], values_list[i]])\n",
    "    \n",
    "print(mat)\n",
    "\n",
    "df = pd.DataFrame(mat, columns = [\"Integers\", \"Frequency\"])\n",
    "print(df)"
   ]
  },
  {
   "cell_type": "markdown",
   "id": "b23adf84",
   "metadata": {},
   "source": [
    "### Question 21\n",
    "\n",
    "### Histogram is a graphical representation of the frequency distribution, very common when we need to analyze sample data. Make a script to read a list of integers between 0 and 100 and print a histogram of the frequency of each number. For example, the entry 5 5 7 8 10 6 5 6 7 4 5 7 6 6 7 6 6 should result in the histogram"
   ]
  },
  {
   "cell_type": "code",
   "execution_count": 42,
   "id": "05c7d411",
   "metadata": {
    "scrolled": false
   },
   "outputs": [
    {
     "name": "stdout",
     "output_type": "stream",
     "text": [
      "Input numbers (>100 terminates): 5\n",
      "Input numbers (>100 terminates): 5\n",
      "Input numbers (>100 terminates): 7\n",
      "Input numbers (>100 terminates): 8\n",
      "Input numbers (>100 terminates): 10\n",
      "Input numbers (>100 terminates): 6\n",
      "Input numbers (>100 terminates): 7\n",
      "Input numbers (>100 terminates): 4\n",
      "Input numbers (>100 terminates): 5\n",
      "Input numbers (>100 terminates): 6\n",
      "Input numbers (>100 terminates): 5\n",
      "Input numbers (>100 terminates): 7\n",
      "Input numbers (>100 terminates): 6\n",
      "Input numbers (>100 terminates): 6\n",
      "Input numbers (>100 terminates): 7\n",
      "Input numbers (>100 terminates): 6\n",
      "Input numbers (>100 terminates): 6\n",
      "Input numbers (>100 terminates): 111\n",
      "[5, 5, 7, 8, 10, 6, 7, 4, 5, 6, 5, 7, 6, 6, 7, 6, 6]\n",
      "   Integers  Frequency\n",
      "0         5          4\n",
      "1         7          4\n",
      "2         8          1\n",
      "3        10          1\n",
      "4         6          6\n",
      "5         4          1\n"
     ]
    }
   ],
   "source": [
    "m =[]\n",
    "\n",
    "while True:\n",
    "    integer = int(input(\"Input numbers (>100 terminates): \"))\n",
    "    if integer > 100:\n",
    "        break\n",
    "    else:\n",
    "        m.append(integer)\n",
    "\n",
    "print(m)\n",
    "\n",
    "f = {x:m.count(x) for x in m}\n",
    "p, freq = f.keys(), f.values()\n",
    "\n",
    "keys_list = list(p)\n",
    "values_list = list(freq)\n",
    "\n",
    "mat = []\n",
    "for i in range(len(keys_list)):\n",
    "    mat.append([keys_list[i], values_list[i]])\n",
    "    \n",
    "df = pd.DataFrame(mat, columns = [\"Integers\", \"Frequency\"])\n",
    "print(df)"
   ]
  },
  {
   "cell_type": "code",
   "execution_count": 34,
   "id": "784b30dc",
   "metadata": {},
   "outputs": [
    {
     "name": "stdout",
     "output_type": "stream",
     "text": [
      "Collecting matplotlib\n",
      "  Downloading matplotlib-3.4.3-cp39-cp39-manylinux1_x86_64.whl (10.3 MB)\n",
      "\u001b[K     |████████████████████████████████| 10.3 MB 169 kB/s eta 0:00:01\n",
      "\u001b[?25hRequirement already satisfied: pyparsing>=2.2.1 in /usr/local/lib/python3.9/dist-packages (from matplotlib) (2.4.7)\n",
      "Requirement already satisfied: python-dateutil>=2.7 in /usr/lib/python3/dist-packages (from matplotlib) (2.8.1)\n",
      "Requirement already satisfied: pillow>=6.2.0 in /usr/lib/python3/dist-packages (from matplotlib) (8.1.2)\n",
      "Collecting cycler>=0.10\n",
      "  Downloading cycler-0.10.0-py2.py3-none-any.whl (6.5 kB)\n",
      "Requirement already satisfied: numpy>=1.16 in /home/dorcas/.local/lib/python3.9/site-packages (from matplotlib) (1.21.2)\n",
      "Collecting kiwisolver>=1.0.1\n",
      "  Downloading kiwisolver-1.3.2-cp39-cp39-manylinux_2_12_x86_64.manylinux2010_x86_64.whl (1.6 MB)\n",
      "\u001b[K     |████████████████████████████████| 1.6 MB 3.4 MB/s eta 0:00:01\n",
      "\u001b[?25hRequirement already satisfied: six in /usr/lib/python3/dist-packages (from cycler>=0.10->matplotlib) (1.15.0)\n",
      "Installing collected packages: kiwisolver, cycler, matplotlib\n",
      "Successfully installed cycler-0.10.0 kiwisolver-1.3.2 matplotlib-3.4.3\n",
      "Note: you may need to restart the kernel to use updated packages.\n"
     ]
    }
   ],
   "source": [
    "pip install matplotlib"
   ]
  },
  {
   "cell_type": "code",
   "execution_count": 43,
   "id": "e6debe6a",
   "metadata": {},
   "outputs": [
    {
     "data": {
      "image/png": "[encoded data removed]",
      "text/plain": [
       "<Figure size 432x288 with 1 Axes>"
      ]
     },
     "metadata": {
      "needs_background": "light"
     },
     "output_type": "display_data"
    }
   ],
   "source": [
    "import matplotlib.pyplot as plt\n",
    "\n",
    "plt.hist(m, bins = 10)\n",
    "plt.show()"
   ]
  }
 ],
 "metadata": {
  "kernelspec": {
   "display_name": "Python 3 (ipykernel)",
   "language": "python",
   "name": "python3"
  },
  "language_info": {
   "codemirror_mode": {
    "name": "ipython",
    "version": 3
   },
   "file_extension": ".py",
   "mimetype": "text/x-python",
   "name": "python",
   "nbconvert_exporter": "python",
   "pygments_lexer": "ipython3",
   "version": "3.9.5"
  }
 },
 "nbformat": 4,
 "nbformat_minor": 5
}
